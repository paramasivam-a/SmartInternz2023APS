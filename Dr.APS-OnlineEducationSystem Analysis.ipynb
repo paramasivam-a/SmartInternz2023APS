{
  "nbformat": 4,
  "nbformat_minor": 0,
  "metadata": {
    "colab": {
      "provenance": []
    },
    "kernelspec": {
      "name": "python3",
      "display_name": "Python 3"
    },
    "language_info": {
      "name": "python"
    }
  },
  "cells": [
    {
      "cell_type": "code",
      "source": [
        "import numpy as np  # this library for  Mathematical operations\n",
        "import pandas as pd   # this library for data manipulation and data analysis\n",
        "import matplotlib.pyplot as plt # this library for data visualization\n",
        "import seaborn as sns\n",
        "import random\n",
        "import warnings\n",
        "warnings.filterwarnings(\"ignore\")"
      ],
      "metadata": {
        "id": "G7G7RuDX0j6V"
      },
      "execution_count": 2,
      "outputs": []
    },
    {
      "cell_type": "code",
      "source": [
        "k=pd.read_csv('ONLINE EDUCATION SYSTEM REVIEW.csv')"
      ],
      "metadata": {
        "id": "t-Ld5p0U01fg"
      },
      "execution_count": 3,
      "outputs": []
    },
    {
      "cell_type": "code",
      "source": [
        "k.head()"
      ],
      "metadata": {
        "colab": {
          "base_uri": "https://localhost:8080/",
          "height": 446
        },
        "id": "HvAMQu8l1D9O",
        "outputId": "02865def-f15d-4094-e78c-3afe09758b42"
      },
      "execution_count": 4,
      "outputs": [
        {
          "output_type": "execute_result",
          "data": {
            "text/plain": [
              "  Gender Home Location Level of Education  Age(Years)  Number of Subjects  \\\n",
              "0   Male         Urban     Under Graduate          18                  11   \n",
              "1   Male         Urban     Under Graduate          19                   7   \n",
              "2   Male         Rural     Under Graduate          18                   5   \n",
              "3   Male         Urban     Under Graduate          18                   5   \n",
              "4   Male         Rural     Under Graduate          18                   5   \n",
              "\n",
              "  Device type used to attend classes Economic status  Family size  \\\n",
              "0                             Laptop    Middle Class            4   \n",
              "1                             Laptop    Middle Class            4   \n",
              "2                             Laptop    Middle Class            5   \n",
              "3                             Laptop    Middle Class            4   \n",
              "4                             Laptop    Middle Class            4   \n",
              "\n",
              "   Internet facility in your locality Are you involved in any sports?  ...  \\\n",
              "0                                   5                              No  ...   \n",
              "1                                   1                             Yes  ...   \n",
              "2                                   2                              No  ...   \n",
              "3                                   4                             Yes  ...   \n",
              "4                                   3                              No  ...   \n",
              "\n",
              "  Time spent on social media (Hours)  Interested in Gaming?  \\\n",
              "0                                  1                     No   \n",
              "1                                  1                    Yes   \n",
              "2                                  1                     No   \n",
              "3                                  2                     No   \n",
              "4                                  2                    Yes   \n",
              "\n",
              "   Have separate room for studying?  Engaged in group studies?  \\\n",
              "0                                No                         No   \n",
              "1                               Yes                         No   \n",
              "2                               Yes                         No   \n",
              "3                                No                        yes   \n",
              "4                               Yes                        yes   \n",
              "\n",
              "  Average marks scored before pandemic in traditional classroom  \\\n",
              "0                                             91-100              \n",
              "1                                             91-100              \n",
              "2                                              71-80              \n",
              "3                                             91-100              \n",
              "4                                              81-90              \n",
              "\n",
              "  Your interaction in online mode  \\\n",
              "0                               1   \n",
              "1                               1   \n",
              "2                               1   \n",
              "3                               1   \n",
              "4                               3   \n",
              "\n",
              "  Clearing doubts with faculties in online mode Interested in?  \\\n",
              "0                                             1      Practical   \n",
              "1                                             1         Theory   \n",
              "2                                             1           Both   \n",
              "3                                             2         Theory   \n",
              "4                                             3           Both   \n",
              "\n",
              "   Performance in online  Your level of satisfaction in Online Education  \n",
              "0                      6                                         Average  \n",
              "1                      3                                             Bad  \n",
              "2                      6                                             Bad  \n",
              "3                      4                                             Bad  \n",
              "4                      6                                         Average  \n",
              "\n",
              "[5 rows x 23 columns]"
            ],
            "text/html": [
              "\n",
              "  <div id=\"df-e56a1099-a709-4216-8939-06790b5e7e80\" class=\"colab-df-container\">\n",
              "    <div>\n",
              "<style scoped>\n",
              "    .dataframe tbody tr th:only-of-type {\n",
              "        vertical-align: middle;\n",
              "    }\n",
              "\n",
              "    .dataframe tbody tr th {\n",
              "        vertical-align: top;\n",
              "    }\n",
              "\n",
              "    .dataframe thead th {\n",
              "        text-align: right;\n",
              "    }\n",
              "</style>\n",
              "<table border=\"1\" class=\"dataframe\">\n",
              "  <thead>\n",
              "    <tr style=\"text-align: right;\">\n",
              "      <th></th>\n",
              "      <th>Gender</th>\n",
              "      <th>Home Location</th>\n",
              "      <th>Level of Education</th>\n",
              "      <th>Age(Years)</th>\n",
              "      <th>Number of Subjects</th>\n",
              "      <th>Device type used to attend classes</th>\n",
              "      <th>Economic status</th>\n",
              "      <th>Family size</th>\n",
              "      <th>Internet facility in your locality</th>\n",
              "      <th>Are you involved in any sports?</th>\n",
              "      <th>...</th>\n",
              "      <th>Time spent on social media (Hours)</th>\n",
              "      <th>Interested in Gaming?</th>\n",
              "      <th>Have separate room for studying?</th>\n",
              "      <th>Engaged in group studies?</th>\n",
              "      <th>Average marks scored before pandemic in traditional classroom</th>\n",
              "      <th>Your interaction in online mode</th>\n",
              "      <th>Clearing doubts with faculties in online mode</th>\n",
              "      <th>Interested in?</th>\n",
              "      <th>Performance in online</th>\n",
              "      <th>Your level of satisfaction in Online Education</th>\n",
              "    </tr>\n",
              "  </thead>\n",
              "  <tbody>\n",
              "    <tr>\n",
              "      <th>0</th>\n",
              "      <td>Male</td>\n",
              "      <td>Urban</td>\n",
              "      <td>Under Graduate</td>\n",
              "      <td>18</td>\n",
              "      <td>11</td>\n",
              "      <td>Laptop</td>\n",
              "      <td>Middle Class</td>\n",
              "      <td>4</td>\n",
              "      <td>5</td>\n",
              "      <td>No</td>\n",
              "      <td>...</td>\n",
              "      <td>1</td>\n",
              "      <td>No</td>\n",
              "      <td>No</td>\n",
              "      <td>No</td>\n",
              "      <td>91-100</td>\n",
              "      <td>1</td>\n",
              "      <td>1</td>\n",
              "      <td>Practical</td>\n",
              "      <td>6</td>\n",
              "      <td>Average</td>\n",
              "    </tr>\n",
              "    <tr>\n",
              "      <th>1</th>\n",
              "      <td>Male</td>\n",
              "      <td>Urban</td>\n",
              "      <td>Under Graduate</td>\n",
              "      <td>19</td>\n",
              "      <td>7</td>\n",
              "      <td>Laptop</td>\n",
              "      <td>Middle Class</td>\n",
              "      <td>4</td>\n",
              "      <td>1</td>\n",
              "      <td>Yes</td>\n",
              "      <td>...</td>\n",
              "      <td>1</td>\n",
              "      <td>Yes</td>\n",
              "      <td>Yes</td>\n",
              "      <td>No</td>\n",
              "      <td>91-100</td>\n",
              "      <td>1</td>\n",
              "      <td>1</td>\n",
              "      <td>Theory</td>\n",
              "      <td>3</td>\n",
              "      <td>Bad</td>\n",
              "    </tr>\n",
              "    <tr>\n",
              "      <th>2</th>\n",
              "      <td>Male</td>\n",
              "      <td>Rural</td>\n",
              "      <td>Under Graduate</td>\n",
              "      <td>18</td>\n",
              "      <td>5</td>\n",
              "      <td>Laptop</td>\n",
              "      <td>Middle Class</td>\n",
              "      <td>5</td>\n",
              "      <td>2</td>\n",
              "      <td>No</td>\n",
              "      <td>...</td>\n",
              "      <td>1</td>\n",
              "      <td>No</td>\n",
              "      <td>Yes</td>\n",
              "      <td>No</td>\n",
              "      <td>71-80</td>\n",
              "      <td>1</td>\n",
              "      <td>1</td>\n",
              "      <td>Both</td>\n",
              "      <td>6</td>\n",
              "      <td>Bad</td>\n",
              "    </tr>\n",
              "    <tr>\n",
              "      <th>3</th>\n",
              "      <td>Male</td>\n",
              "      <td>Urban</td>\n",
              "      <td>Under Graduate</td>\n",
              "      <td>18</td>\n",
              "      <td>5</td>\n",
              "      <td>Laptop</td>\n",
              "      <td>Middle Class</td>\n",
              "      <td>4</td>\n",
              "      <td>4</td>\n",
              "      <td>Yes</td>\n",
              "      <td>...</td>\n",
              "      <td>2</td>\n",
              "      <td>No</td>\n",
              "      <td>No</td>\n",
              "      <td>yes</td>\n",
              "      <td>91-100</td>\n",
              "      <td>1</td>\n",
              "      <td>2</td>\n",
              "      <td>Theory</td>\n",
              "      <td>4</td>\n",
              "      <td>Bad</td>\n",
              "    </tr>\n",
              "    <tr>\n",
              "      <th>4</th>\n",
              "      <td>Male</td>\n",
              "      <td>Rural</td>\n",
              "      <td>Under Graduate</td>\n",
              "      <td>18</td>\n",
              "      <td>5</td>\n",
              "      <td>Laptop</td>\n",
              "      <td>Middle Class</td>\n",
              "      <td>4</td>\n",
              "      <td>3</td>\n",
              "      <td>No</td>\n",
              "      <td>...</td>\n",
              "      <td>2</td>\n",
              "      <td>Yes</td>\n",
              "      <td>Yes</td>\n",
              "      <td>yes</td>\n",
              "      <td>81-90</td>\n",
              "      <td>3</td>\n",
              "      <td>3</td>\n",
              "      <td>Both</td>\n",
              "      <td>6</td>\n",
              "      <td>Average</td>\n",
              "    </tr>\n",
              "  </tbody>\n",
              "</table>\n",
              "<p>5 rows × 23 columns</p>\n",
              "</div>\n",
              "    <div class=\"colab-df-buttons\">\n",
              "\n",
              "  <div class=\"colab-df-container\">\n",
              "    <button class=\"colab-df-convert\" onclick=\"convertToInteractive('df-e56a1099-a709-4216-8939-06790b5e7e80')\"\n",
              "            title=\"Convert this dataframe to an interactive table.\"\n",
              "            style=\"display:none;\">\n",
              "\n",
              "  <svg xmlns=\"http://www.w3.org/2000/svg\" height=\"24px\" viewBox=\"0 -960 960 960\">\n",
              "    <path d=\"M120-120v-720h720v720H120Zm60-500h600v-160H180v160Zm220 220h160v-160H400v160Zm0 220h160v-160H400v160ZM180-400h160v-160H180v160Zm440 0h160v-160H620v160ZM180-180h160v-160H180v160Zm440 0h160v-160H620v160Z\"/>\n",
              "  </svg>\n",
              "    </button>\n",
              "\n",
              "  <style>\n",
              "    .colab-df-container {\n",
              "      display:flex;\n",
              "      gap: 12px;\n",
              "    }\n",
              "\n",
              "    .colab-df-convert {\n",
              "      background-color: #E8F0FE;\n",
              "      border: none;\n",
              "      border-radius: 50%;\n",
              "      cursor: pointer;\n",
              "      display: none;\n",
              "      fill: #1967D2;\n",
              "      height: 32px;\n",
              "      padding: 0 0 0 0;\n",
              "      width: 32px;\n",
              "    }\n",
              "\n",
              "    .colab-df-convert:hover {\n",
              "      background-color: #E2EBFA;\n",
              "      box-shadow: 0px 1px 2px rgba(60, 64, 67, 0.3), 0px 1px 3px 1px rgba(60, 64, 67, 0.15);\n",
              "      fill: #174EA6;\n",
              "    }\n",
              "\n",
              "    .colab-df-buttons div {\n",
              "      margin-bottom: 4px;\n",
              "    }\n",
              "\n",
              "    [theme=dark] .colab-df-convert {\n",
              "      background-color: #3B4455;\n",
              "      fill: #D2E3FC;\n",
              "    }\n",
              "\n",
              "    [theme=dark] .colab-df-convert:hover {\n",
              "      background-color: #434B5C;\n",
              "      box-shadow: 0px 1px 3px 1px rgba(0, 0, 0, 0.15);\n",
              "      filter: drop-shadow(0px 1px 2px rgba(0, 0, 0, 0.3));\n",
              "      fill: #FFFFFF;\n",
              "    }\n",
              "  </style>\n",
              "\n",
              "    <script>\n",
              "      const buttonEl =\n",
              "        document.querySelector('#df-e56a1099-a709-4216-8939-06790b5e7e80 button.colab-df-convert');\n",
              "      buttonEl.style.display =\n",
              "        google.colab.kernel.accessAllowed ? 'block' : 'none';\n",
              "\n",
              "      async function convertToInteractive(key) {\n",
              "        const element = document.querySelector('#df-e56a1099-a709-4216-8939-06790b5e7e80');\n",
              "        const dataTable =\n",
              "          await google.colab.kernel.invokeFunction('convertToInteractive',\n",
              "                                                    [key], {});\n",
              "        if (!dataTable) return;\n",
              "\n",
              "        const docLinkHtml = 'Like what you see? Visit the ' +\n",
              "          '<a target=\"_blank\" href=https://colab.research.google.com/notebooks/data_table.ipynb>data table notebook</a>'\n",
              "          + ' to learn more about interactive tables.';\n",
              "        element.innerHTML = '';\n",
              "        dataTable['output_type'] = 'display_data';\n",
              "        await google.colab.output.renderOutput(dataTable, element);\n",
              "        const docLink = document.createElement('div');\n",
              "        docLink.innerHTML = docLinkHtml;\n",
              "        element.appendChild(docLink);\n",
              "      }\n",
              "    </script>\n",
              "  </div>\n",
              "\n",
              "\n",
              "<div id=\"df-3cc446e6-5176-4a8e-80bf-f1f674fb931d\">\n",
              "  <button class=\"colab-df-quickchart\" onclick=\"quickchart('df-3cc446e6-5176-4a8e-80bf-f1f674fb931d')\"\n",
              "            title=\"Suggest charts.\"\n",
              "            style=\"display:none;\">\n",
              "\n",
              "<svg xmlns=\"http://www.w3.org/2000/svg\" height=\"24px\"viewBox=\"0 0 24 24\"\n",
              "     width=\"24px\">\n",
              "    <g>\n",
              "        <path d=\"M19 3H5c-1.1 0-2 .9-2 2v14c0 1.1.9 2 2 2h14c1.1 0 2-.9 2-2V5c0-1.1-.9-2-2-2zM9 17H7v-7h2v7zm4 0h-2V7h2v10zm4 0h-2v-4h2v4z\"/>\n",
              "    </g>\n",
              "</svg>\n",
              "  </button>\n",
              "\n",
              "<style>\n",
              "  .colab-df-quickchart {\n",
              "      --bg-color: #E8F0FE;\n",
              "      --fill-color: #1967D2;\n",
              "      --hover-bg-color: #E2EBFA;\n",
              "      --hover-fill-color: #174EA6;\n",
              "      --disabled-fill-color: #AAA;\n",
              "      --disabled-bg-color: #DDD;\n",
              "  }\n",
              "\n",
              "  [theme=dark] .colab-df-quickchart {\n",
              "      --bg-color: #3B4455;\n",
              "      --fill-color: #D2E3FC;\n",
              "      --hover-bg-color: #434B5C;\n",
              "      --hover-fill-color: #FFFFFF;\n",
              "      --disabled-bg-color: #3B4455;\n",
              "      --disabled-fill-color: #666;\n",
              "  }\n",
              "\n",
              "  .colab-df-quickchart {\n",
              "    background-color: var(--bg-color);\n",
              "    border: none;\n",
              "    border-radius: 50%;\n",
              "    cursor: pointer;\n",
              "    display: none;\n",
              "    fill: var(--fill-color);\n",
              "    height: 32px;\n",
              "    padding: 0;\n",
              "    width: 32px;\n",
              "  }\n",
              "\n",
              "  .colab-df-quickchart:hover {\n",
              "    background-color: var(--hover-bg-color);\n",
              "    box-shadow: 0 1px 2px rgba(60, 64, 67, 0.3), 0 1px 3px 1px rgba(60, 64, 67, 0.15);\n",
              "    fill: var(--button-hover-fill-color);\n",
              "  }\n",
              "\n",
              "  .colab-df-quickchart-complete:disabled,\n",
              "  .colab-df-quickchart-complete:disabled:hover {\n",
              "    background-color: var(--disabled-bg-color);\n",
              "    fill: var(--disabled-fill-color);\n",
              "    box-shadow: none;\n",
              "  }\n",
              "\n",
              "  .colab-df-spinner {\n",
              "    border: 2px solid var(--fill-color);\n",
              "    border-color: transparent;\n",
              "    border-bottom-color: var(--fill-color);\n",
              "    animation:\n",
              "      spin 1s steps(1) infinite;\n",
              "  }\n",
              "\n",
              "  @keyframes spin {\n",
              "    0% {\n",
              "      border-color: transparent;\n",
              "      border-bottom-color: var(--fill-color);\n",
              "      border-left-color: var(--fill-color);\n",
              "    }\n",
              "    20% {\n",
              "      border-color: transparent;\n",
              "      border-left-color: var(--fill-color);\n",
              "      border-top-color: var(--fill-color);\n",
              "    }\n",
              "    30% {\n",
              "      border-color: transparent;\n",
              "      border-left-color: var(--fill-color);\n",
              "      border-top-color: var(--fill-color);\n",
              "      border-right-color: var(--fill-color);\n",
              "    }\n",
              "    40% {\n",
              "      border-color: transparent;\n",
              "      border-right-color: var(--fill-color);\n",
              "      border-top-color: var(--fill-color);\n",
              "    }\n",
              "    60% {\n",
              "      border-color: transparent;\n",
              "      border-right-color: var(--fill-color);\n",
              "    }\n",
              "    80% {\n",
              "      border-color: transparent;\n",
              "      border-right-color: var(--fill-color);\n",
              "      border-bottom-color: var(--fill-color);\n",
              "    }\n",
              "    90% {\n",
              "      border-color: transparent;\n",
              "      border-bottom-color: var(--fill-color);\n",
              "    }\n",
              "  }\n",
              "</style>\n",
              "\n",
              "  <script>\n",
              "    async function quickchart(key) {\n",
              "      const quickchartButtonEl =\n",
              "        document.querySelector('#' + key + ' button');\n",
              "      quickchartButtonEl.disabled = true;  // To prevent multiple clicks.\n",
              "      quickchartButtonEl.classList.add('colab-df-spinner');\n",
              "      try {\n",
              "        const charts = await google.colab.kernel.invokeFunction(\n",
              "            'suggestCharts', [key], {});\n",
              "      } catch (error) {\n",
              "        console.error('Error during call to suggestCharts:', error);\n",
              "      }\n",
              "      quickchartButtonEl.classList.remove('colab-df-spinner');\n",
              "      quickchartButtonEl.classList.add('colab-df-quickchart-complete');\n",
              "    }\n",
              "    (() => {\n",
              "      let quickchartButtonEl =\n",
              "        document.querySelector('#df-3cc446e6-5176-4a8e-80bf-f1f674fb931d button');\n",
              "      quickchartButtonEl.style.display =\n",
              "        google.colab.kernel.accessAllowed ? 'block' : 'none';\n",
              "    })();\n",
              "  </script>\n",
              "</div>\n",
              "    </div>\n",
              "  </div>\n"
            ]
          },
          "metadata": {},
          "execution_count": 4
        }
      ]
    },
    {
      "cell_type": "code",
      "source": [
        "k.shape\n"
      ],
      "metadata": {
        "colab": {
          "base_uri": "https://localhost:8080/"
        },
        "id": "VDanNb_01Hcf",
        "outputId": "655331c9-537c-4bd8-9bba-d01a9ee6a37c"
      },
      "execution_count": 5,
      "outputs": [
        {
          "output_type": "execute_result",
          "data": {
            "text/plain": [
              "(1033, 23)"
            ]
          },
          "metadata": {},
          "execution_count": 5
        }
      ]
    },
    {
      "cell_type": "code",
      "source": [
        "k.size\n"
      ],
      "metadata": {
        "colab": {
          "base_uri": "https://localhost:8080/"
        },
        "id": "sbTxiWTs1LAx",
        "outputId": "a587689b-2725-458d-8f44-2dd0482041be"
      },
      "execution_count": 6,
      "outputs": [
        {
          "output_type": "execute_result",
          "data": {
            "text/plain": [
              "23759"
            ]
          },
          "metadata": {},
          "execution_count": 6
        }
      ]
    },
    {
      "cell_type": "code",
      "source": [
        "k.duplicated().sum()"
      ],
      "metadata": {
        "colab": {
          "base_uri": "https://localhost:8080/"
        },
        "id": "M-CKkGS51N8L",
        "outputId": "e1673d01-e438-4736-889b-e10fb8e2be84"
      },
      "execution_count": 9,
      "outputs": [
        {
          "output_type": "execute_result",
          "data": {
            "text/plain": [
              "0"
            ]
          },
          "metadata": {},
          "execution_count": 9
        }
      ]
    },
    {
      "cell_type": "code",
      "source": [
        "k.info()"
      ],
      "metadata": {
        "colab": {
          "base_uri": "https://localhost:8080/"
        },
        "id": "NVHXwYEx1Ra_",
        "outputId": "13807406-e3e8-4849-9f3b-9d1f24dcfbc4"
      },
      "execution_count": 11,
      "outputs": [
        {
          "output_type": "stream",
          "name": "stdout",
          "text": [
            "<class 'pandas.core.frame.DataFrame'>\n",
            "RangeIndex: 1033 entries, 0 to 1032\n",
            "Data columns (total 23 columns):\n",
            " #   Column                                                         Non-Null Count  Dtype \n",
            "---  ------                                                         --------------  ----- \n",
            " 0   Gender                                                         1033 non-null   object\n",
            " 1   Home Location                                                  1033 non-null   object\n",
            " 2   Level of Education                                             1033 non-null   object\n",
            " 3   Age(Years)                                                     1033 non-null   int64 \n",
            " 4   Number of Subjects                                             1033 non-null   int64 \n",
            " 5   Device type used to attend classes                             1033 non-null   object\n",
            " 6   Economic status                                                1033 non-null   object\n",
            " 7   Family size                                                    1033 non-null   int64 \n",
            " 8   Internet facility in your locality                             1033 non-null   int64 \n",
            " 9   Are you involved in any sports?                                1033 non-null   object\n",
            " 10  Do elderly people monitor you?                                 1033 non-null   object\n",
            " 11  Study time (Hours)                                             1033 non-null   int64 \n",
            " 12  Sleep time (Hours)                                             1033 non-null   int64 \n",
            " 13  Time spent on social media (Hours)                             1033 non-null   int64 \n",
            " 14  Interested in Gaming?                                          1033 non-null   object\n",
            " 15  Have separate room for studying?                               1033 non-null   object\n",
            " 16  Engaged in group studies?                                      1033 non-null   object\n",
            " 17  Average marks scored before pandemic in traditional classroom  1033 non-null   object\n",
            " 18  Your interaction in online mode                                1033 non-null   int64 \n",
            " 19  Clearing doubts with faculties in online mode                  1033 non-null   int64 \n",
            " 20  Interested in?                                                 1033 non-null   object\n",
            " 21  Performance in online                                          1033 non-null   int64 \n",
            " 22  Your level of satisfaction in Online Education                 1033 non-null   object\n",
            "dtypes: int64(10), object(13)\n",
            "memory usage: 185.7+ KB\n"
          ]
        }
      ]
    },
    {
      "cell_type": "code",
      "source": [
        "k.describe()"
      ],
      "metadata": {
        "colab": {
          "base_uri": "https://localhost:8080/",
          "height": 335
        },
        "id": "dLULuqcU1XU6",
        "outputId": "ecb7f43b-186b-4fe1-adea-acc1e8ddfffa"
      },
      "execution_count": 12,
      "outputs": [
        {
          "output_type": "execute_result",
          "data": {
            "text/plain": [
              "        Age(Years)  Number of Subjects  Family size  \\\n",
              "count  1033.000000          1033.00000  1033.000000   \n",
              "mean     19.798645             7.03485     4.413359   \n",
              "std       3.199158             2.81034     1.236750   \n",
              "min       9.000000             1.00000     2.000000   \n",
              "25%      18.000000             6.00000     4.000000   \n",
              "50%      19.000000             7.00000     4.000000   \n",
              "75%      20.000000             8.00000     5.000000   \n",
              "max      40.000000            20.00000    10.000000   \n",
              "\n",
              "       Internet facility in your locality  Study time (Hours)  \\\n",
              "count                         1033.000000         1033.000000   \n",
              "mean                             3.586641            4.325266   \n",
              "std                              1.026063            2.134233   \n",
              "min                              1.000000            1.000000   \n",
              "25%                              3.000000            3.000000   \n",
              "50%                              4.000000            4.000000   \n",
              "75%                              4.000000            6.000000   \n",
              "max                              5.000000           10.000000   \n",
              "\n",
              "       Sleep time (Hours)  Time spent on social media (Hours)  \\\n",
              "count         1033.000000                         1033.000000   \n",
              "mean             6.947725                            2.636980   \n",
              "std              1.324039                            1.859625   \n",
              "min              1.000000                            1.000000   \n",
              "25%              6.000000                            1.000000   \n",
              "50%              7.000000                            2.000000   \n",
              "75%              8.000000                            3.000000   \n",
              "max             10.000000                           10.000000   \n",
              "\n",
              "       Your interaction in online mode  \\\n",
              "count                      1033.000000   \n",
              "mean                          2.930300   \n",
              "std                           1.105387   \n",
              "min                           1.000000   \n",
              "25%                           2.000000   \n",
              "50%                           3.000000   \n",
              "75%                           4.000000   \n",
              "max                           5.000000   \n",
              "\n",
              "       Clearing doubts with faculties in online mode  Performance in online  \n",
              "count                                    1033.000000            1033.000000  \n",
              "mean                                        2.833495               6.696031  \n",
              "std                                         1.163629               1.920048  \n",
              "min                                         1.000000               2.000000  \n",
              "25%                                         2.000000               6.000000  \n",
              "50%                                         3.000000               7.000000  \n",
              "75%                                         4.000000               8.000000  \n",
              "max                                         5.000000              10.000000  "
            ],
            "text/html": [
              "\n",
              "  <div id=\"df-078ff251-8bea-45e3-ae60-dfff6f817716\" class=\"colab-df-container\">\n",
              "    <div>\n",
              "<style scoped>\n",
              "    .dataframe tbody tr th:only-of-type {\n",
              "        vertical-align: middle;\n",
              "    }\n",
              "\n",
              "    .dataframe tbody tr th {\n",
              "        vertical-align: top;\n",
              "    }\n",
              "\n",
              "    .dataframe thead th {\n",
              "        text-align: right;\n",
              "    }\n",
              "</style>\n",
              "<table border=\"1\" class=\"dataframe\">\n",
              "  <thead>\n",
              "    <tr style=\"text-align: right;\">\n",
              "      <th></th>\n",
              "      <th>Age(Years)</th>\n",
              "      <th>Number of Subjects</th>\n",
              "      <th>Family size</th>\n",
              "      <th>Internet facility in your locality</th>\n",
              "      <th>Study time (Hours)</th>\n",
              "      <th>Sleep time (Hours)</th>\n",
              "      <th>Time spent on social media (Hours)</th>\n",
              "      <th>Your interaction in online mode</th>\n",
              "      <th>Clearing doubts with faculties in online mode</th>\n",
              "      <th>Performance in online</th>\n",
              "    </tr>\n",
              "  </thead>\n",
              "  <tbody>\n",
              "    <tr>\n",
              "      <th>count</th>\n",
              "      <td>1033.000000</td>\n",
              "      <td>1033.00000</td>\n",
              "      <td>1033.000000</td>\n",
              "      <td>1033.000000</td>\n",
              "      <td>1033.000000</td>\n",
              "      <td>1033.000000</td>\n",
              "      <td>1033.000000</td>\n",
              "      <td>1033.000000</td>\n",
              "      <td>1033.000000</td>\n",
              "      <td>1033.000000</td>\n",
              "    </tr>\n",
              "    <tr>\n",
              "      <th>mean</th>\n",
              "      <td>19.798645</td>\n",
              "      <td>7.03485</td>\n",
              "      <td>4.413359</td>\n",
              "      <td>3.586641</td>\n",
              "      <td>4.325266</td>\n",
              "      <td>6.947725</td>\n",
              "      <td>2.636980</td>\n",
              "      <td>2.930300</td>\n",
              "      <td>2.833495</td>\n",
              "      <td>6.696031</td>\n",
              "    </tr>\n",
              "    <tr>\n",
              "      <th>std</th>\n",
              "      <td>3.199158</td>\n",
              "      <td>2.81034</td>\n",
              "      <td>1.236750</td>\n",
              "      <td>1.026063</td>\n",
              "      <td>2.134233</td>\n",
              "      <td>1.324039</td>\n",
              "      <td>1.859625</td>\n",
              "      <td>1.105387</td>\n",
              "      <td>1.163629</td>\n",
              "      <td>1.920048</td>\n",
              "    </tr>\n",
              "    <tr>\n",
              "      <th>min</th>\n",
              "      <td>9.000000</td>\n",
              "      <td>1.00000</td>\n",
              "      <td>2.000000</td>\n",
              "      <td>1.000000</td>\n",
              "      <td>1.000000</td>\n",
              "      <td>1.000000</td>\n",
              "      <td>1.000000</td>\n",
              "      <td>1.000000</td>\n",
              "      <td>1.000000</td>\n",
              "      <td>2.000000</td>\n",
              "    </tr>\n",
              "    <tr>\n",
              "      <th>25%</th>\n",
              "      <td>18.000000</td>\n",
              "      <td>6.00000</td>\n",
              "      <td>4.000000</td>\n",
              "      <td>3.000000</td>\n",
              "      <td>3.000000</td>\n",
              "      <td>6.000000</td>\n",
              "      <td>1.000000</td>\n",
              "      <td>2.000000</td>\n",
              "      <td>2.000000</td>\n",
              "      <td>6.000000</td>\n",
              "    </tr>\n",
              "    <tr>\n",
              "      <th>50%</th>\n",
              "      <td>19.000000</td>\n",
              "      <td>7.00000</td>\n",
              "      <td>4.000000</td>\n",
              "      <td>4.000000</td>\n",
              "      <td>4.000000</td>\n",
              "      <td>7.000000</td>\n",
              "      <td>2.000000</td>\n",
              "      <td>3.000000</td>\n",
              "      <td>3.000000</td>\n",
              "      <td>7.000000</td>\n",
              "    </tr>\n",
              "    <tr>\n",
              "      <th>75%</th>\n",
              "      <td>20.000000</td>\n",
              "      <td>8.00000</td>\n",
              "      <td>5.000000</td>\n",
              "      <td>4.000000</td>\n",
              "      <td>6.000000</td>\n",
              "      <td>8.000000</td>\n",
              "      <td>3.000000</td>\n",
              "      <td>4.000000</td>\n",
              "      <td>4.000000</td>\n",
              "      <td>8.000000</td>\n",
              "    </tr>\n",
              "    <tr>\n",
              "      <th>max</th>\n",
              "      <td>40.000000</td>\n",
              "      <td>20.00000</td>\n",
              "      <td>10.000000</td>\n",
              "      <td>5.000000</td>\n",
              "      <td>10.000000</td>\n",
              "      <td>10.000000</td>\n",
              "      <td>10.000000</td>\n",
              "      <td>5.000000</td>\n",
              "      <td>5.000000</td>\n",
              "      <td>10.000000</td>\n",
              "    </tr>\n",
              "  </tbody>\n",
              "</table>\n",
              "</div>\n",
              "    <div class=\"colab-df-buttons\">\n",
              "\n",
              "  <div class=\"colab-df-container\">\n",
              "    <button class=\"colab-df-convert\" onclick=\"convertToInteractive('df-078ff251-8bea-45e3-ae60-dfff6f817716')\"\n",
              "            title=\"Convert this dataframe to an interactive table.\"\n",
              "            style=\"display:none;\">\n",
              "\n",
              "  <svg xmlns=\"http://www.w3.org/2000/svg\" height=\"24px\" viewBox=\"0 -960 960 960\">\n",
              "    <path d=\"M120-120v-720h720v720H120Zm60-500h600v-160H180v160Zm220 220h160v-160H400v160Zm0 220h160v-160H400v160ZM180-400h160v-160H180v160Zm440 0h160v-160H620v160ZM180-180h160v-160H180v160Zm440 0h160v-160H620v160Z\"/>\n",
              "  </svg>\n",
              "    </button>\n",
              "\n",
              "  <style>\n",
              "    .colab-df-container {\n",
              "      display:flex;\n",
              "      gap: 12px;\n",
              "    }\n",
              "\n",
              "    .colab-df-convert {\n",
              "      background-color: #E8F0FE;\n",
              "      border: none;\n",
              "      border-radius: 50%;\n",
              "      cursor: pointer;\n",
              "      display: none;\n",
              "      fill: #1967D2;\n",
              "      height: 32px;\n",
              "      padding: 0 0 0 0;\n",
              "      width: 32px;\n",
              "    }\n",
              "\n",
              "    .colab-df-convert:hover {\n",
              "      background-color: #E2EBFA;\n",
              "      box-shadow: 0px 1px 2px rgba(60, 64, 67, 0.3), 0px 1px 3px 1px rgba(60, 64, 67, 0.15);\n",
              "      fill: #174EA6;\n",
              "    }\n",
              "\n",
              "    .colab-df-buttons div {\n",
              "      margin-bottom: 4px;\n",
              "    }\n",
              "\n",
              "    [theme=dark] .colab-df-convert {\n",
              "      background-color: #3B4455;\n",
              "      fill: #D2E3FC;\n",
              "    }\n",
              "\n",
              "    [theme=dark] .colab-df-convert:hover {\n",
              "      background-color: #434B5C;\n",
              "      box-shadow: 0px 1px 3px 1px rgba(0, 0, 0, 0.15);\n",
              "      filter: drop-shadow(0px 1px 2px rgba(0, 0, 0, 0.3));\n",
              "      fill: #FFFFFF;\n",
              "    }\n",
              "  </style>\n",
              "\n",
              "    <script>\n",
              "      const buttonEl =\n",
              "        document.querySelector('#df-078ff251-8bea-45e3-ae60-dfff6f817716 button.colab-df-convert');\n",
              "      buttonEl.style.display =\n",
              "        google.colab.kernel.accessAllowed ? 'block' : 'none';\n",
              "\n",
              "      async function convertToInteractive(key) {\n",
              "        const element = document.querySelector('#df-078ff251-8bea-45e3-ae60-dfff6f817716');\n",
              "        const dataTable =\n",
              "          await google.colab.kernel.invokeFunction('convertToInteractive',\n",
              "                                                    [key], {});\n",
              "        if (!dataTable) return;\n",
              "\n",
              "        const docLinkHtml = 'Like what you see? Visit the ' +\n",
              "          '<a target=\"_blank\" href=https://colab.research.google.com/notebooks/data_table.ipynb>data table notebook</a>'\n",
              "          + ' to learn more about interactive tables.';\n",
              "        element.innerHTML = '';\n",
              "        dataTable['output_type'] = 'display_data';\n",
              "        await google.colab.output.renderOutput(dataTable, element);\n",
              "        const docLink = document.createElement('div');\n",
              "        docLink.innerHTML = docLinkHtml;\n",
              "        element.appendChild(docLink);\n",
              "      }\n",
              "    </script>\n",
              "  </div>\n",
              "\n",
              "\n",
              "<div id=\"df-37eb79ca-db77-458d-8daf-5cc5ac1d0b84\">\n",
              "  <button class=\"colab-df-quickchart\" onclick=\"quickchart('df-37eb79ca-db77-458d-8daf-5cc5ac1d0b84')\"\n",
              "            title=\"Suggest charts.\"\n",
              "            style=\"display:none;\">\n",
              "\n",
              "<svg xmlns=\"http://www.w3.org/2000/svg\" height=\"24px\"viewBox=\"0 0 24 24\"\n",
              "     width=\"24px\">\n",
              "    <g>\n",
              "        <path d=\"M19 3H5c-1.1 0-2 .9-2 2v14c0 1.1.9 2 2 2h14c1.1 0 2-.9 2-2V5c0-1.1-.9-2-2-2zM9 17H7v-7h2v7zm4 0h-2V7h2v10zm4 0h-2v-4h2v4z\"/>\n",
              "    </g>\n",
              "</svg>\n",
              "  </button>\n",
              "\n",
              "<style>\n",
              "  .colab-df-quickchart {\n",
              "      --bg-color: #E8F0FE;\n",
              "      --fill-color: #1967D2;\n",
              "      --hover-bg-color: #E2EBFA;\n",
              "      --hover-fill-color: #174EA6;\n",
              "      --disabled-fill-color: #AAA;\n",
              "      --disabled-bg-color: #DDD;\n",
              "  }\n",
              "\n",
              "  [theme=dark] .colab-df-quickchart {\n",
              "      --bg-color: #3B4455;\n",
              "      --fill-color: #D2E3FC;\n",
              "      --hover-bg-color: #434B5C;\n",
              "      --hover-fill-color: #FFFFFF;\n",
              "      --disabled-bg-color: #3B4455;\n",
              "      --disabled-fill-color: #666;\n",
              "  }\n",
              "\n",
              "  .colab-df-quickchart {\n",
              "    background-color: var(--bg-color);\n",
              "    border: none;\n",
              "    border-radius: 50%;\n",
              "    cursor: pointer;\n",
              "    display: none;\n",
              "    fill: var(--fill-color);\n",
              "    height: 32px;\n",
              "    padding: 0;\n",
              "    width: 32px;\n",
              "  }\n",
              "\n",
              "  .colab-df-quickchart:hover {\n",
              "    background-color: var(--hover-bg-color);\n",
              "    box-shadow: 0 1px 2px rgba(60, 64, 67, 0.3), 0 1px 3px 1px rgba(60, 64, 67, 0.15);\n",
              "    fill: var(--button-hover-fill-color);\n",
              "  }\n",
              "\n",
              "  .colab-df-quickchart-complete:disabled,\n",
              "  .colab-df-quickchart-complete:disabled:hover {\n",
              "    background-color: var(--disabled-bg-color);\n",
              "    fill: var(--disabled-fill-color);\n",
              "    box-shadow: none;\n",
              "  }\n",
              "\n",
              "  .colab-df-spinner {\n",
              "    border: 2px solid var(--fill-color);\n",
              "    border-color: transparent;\n",
              "    border-bottom-color: var(--fill-color);\n",
              "    animation:\n",
              "      spin 1s steps(1) infinite;\n",
              "  }\n",
              "\n",
              "  @keyframes spin {\n",
              "    0% {\n",
              "      border-color: transparent;\n",
              "      border-bottom-color: var(--fill-color);\n",
              "      border-left-color: var(--fill-color);\n",
              "    }\n",
              "    20% {\n",
              "      border-color: transparent;\n",
              "      border-left-color: var(--fill-color);\n",
              "      border-top-color: var(--fill-color);\n",
              "    }\n",
              "    30% {\n",
              "      border-color: transparent;\n",
              "      border-left-color: var(--fill-color);\n",
              "      border-top-color: var(--fill-color);\n",
              "      border-right-color: var(--fill-color);\n",
              "    }\n",
              "    40% {\n",
              "      border-color: transparent;\n",
              "      border-right-color: var(--fill-color);\n",
              "      border-top-color: var(--fill-color);\n",
              "    }\n",
              "    60% {\n",
              "      border-color: transparent;\n",
              "      border-right-color: var(--fill-color);\n",
              "    }\n",
              "    80% {\n",
              "      border-color: transparent;\n",
              "      border-right-color: var(--fill-color);\n",
              "      border-bottom-color: var(--fill-color);\n",
              "    }\n",
              "    90% {\n",
              "      border-color: transparent;\n",
              "      border-bottom-color: var(--fill-color);\n",
              "    }\n",
              "  }\n",
              "</style>\n",
              "\n",
              "  <script>\n",
              "    async function quickchart(key) {\n",
              "      const quickchartButtonEl =\n",
              "        document.querySelector('#' + key + ' button');\n",
              "      quickchartButtonEl.disabled = true;  // To prevent multiple clicks.\n",
              "      quickchartButtonEl.classList.add('colab-df-spinner');\n",
              "      try {\n",
              "        const charts = await google.colab.kernel.invokeFunction(\n",
              "            'suggestCharts', [key], {});\n",
              "      } catch (error) {\n",
              "        console.error('Error during call to suggestCharts:', error);\n",
              "      }\n",
              "      quickchartButtonEl.classList.remove('colab-df-spinner');\n",
              "      quickchartButtonEl.classList.add('colab-df-quickchart-complete');\n",
              "    }\n",
              "    (() => {\n",
              "      let quickchartButtonEl =\n",
              "        document.querySelector('#df-37eb79ca-db77-458d-8daf-5cc5ac1d0b84 button');\n",
              "      quickchartButtonEl.style.display =\n",
              "        google.colab.kernel.accessAllowed ? 'block' : 'none';\n",
              "    })();\n",
              "  </script>\n",
              "</div>\n",
              "    </div>\n",
              "  </div>\n"
            ]
          },
          "metadata": {},
          "execution_count": 12
        }
      ]
    },
    {
      "cell_type": "code",
      "source": [
        "k.nunique()"
      ],
      "metadata": {
        "colab": {
          "base_uri": "https://localhost:8080/"
        },
        "id": "qJki6USj1eMG",
        "outputId": "a2a678b2-e479-4a1d-f654-07eed56cee54"
      },
      "execution_count": 14,
      "outputs": [
        {
          "output_type": "execute_result",
          "data": {
            "text/plain": [
              "Gender                                                            2\n",
              "Home Location                                                     2\n",
              "Level of Education                                                3\n",
              "Age(Years)                                                       24\n",
              "Number of Subjects                                               20\n",
              "Device type used to attend classes                                3\n",
              "Economic status                                                   3\n",
              "Family size                                                       9\n",
              "Internet facility in your locality                                5\n",
              "Are you involved in any sports?                                   2\n",
              "Do elderly people monitor you?                                    2\n",
              "Study time (Hours)                                               10\n",
              "Sleep time (Hours)                                               10\n",
              "Time spent on social media (Hours)                               10\n",
              "Interested in Gaming?                                             2\n",
              "Have separate room for studying?                                  2\n",
              "Engaged in group studies?                                         2\n",
              "Average marks scored before pandemic in traditional classroom    10\n",
              "Your interaction in online mode                                   5\n",
              "Clearing doubts with faculties in online mode                     5\n",
              "Interested in?                                                    3\n",
              "Performance in online                                             9\n",
              "Your level of satisfaction in Online Education                    3\n",
              "dtype: int64"
            ]
          },
          "metadata": {},
          "execution_count": 14
        }
      ]
    },
    {
      "cell_type": "code",
      "source": [
        "k.isnull().sum()"
      ],
      "metadata": {
        "colab": {
          "base_uri": "https://localhost:8080/"
        },
        "id": "5u7N-NSu1mWC",
        "outputId": "28e33a95-b8f7-4380-d564-eeaab4543e00"
      },
      "execution_count": 15,
      "outputs": [
        {
          "output_type": "execute_result",
          "data": {
            "text/plain": [
              "Gender                                                           0\n",
              "Home Location                                                    0\n",
              "Level of Education                                               0\n",
              "Age(Years)                                                       0\n",
              "Number of Subjects                                               0\n",
              "Device type used to attend classes                               0\n",
              "Economic status                                                  0\n",
              "Family size                                                      0\n",
              "Internet facility in your locality                               0\n",
              "Are you involved in any sports?                                  0\n",
              "Do elderly people monitor you?                                   0\n",
              "Study time (Hours)                                               0\n",
              "Sleep time (Hours)                                               0\n",
              "Time spent on social media (Hours)                               0\n",
              "Interested in Gaming?                                            0\n",
              "Have separate room for studying?                                 0\n",
              "Engaged in group studies?                                        0\n",
              "Average marks scored before pandemic in traditional classroom    0\n",
              "Your interaction in online mode                                  0\n",
              "Clearing doubts with faculties in online mode                    0\n",
              "Interested in?                                                   0\n",
              "Performance in online                                            0\n",
              "Your level of satisfaction in Online Education                   0\n",
              "dtype: int64"
            ]
          },
          "metadata": {},
          "execution_count": 15
        }
      ]
    },
    {
      "cell_type": "code",
      "source": [
        "k.corr()"
      ],
      "metadata": {
        "colab": {
          "base_uri": "https://localhost:8080/",
          "height": 537
        },
        "id": "T1i4_5dG1t4k",
        "outputId": "1fb2bc45-44bf-4313-99c8-97ffcc3d0326"
      },
      "execution_count": 16,
      "outputs": [
        {
          "output_type": "execute_result",
          "data": {
            "text/plain": [
              "                                               Age(Years)  Number of Subjects  \\\n",
              "Age(Years)                                       1.000000           -0.011505   \n",
              "Number of Subjects                              -0.011505            1.000000   \n",
              "Family size                                      0.016893            0.035997   \n",
              "Internet facility in your locality               0.072625           -0.025915   \n",
              "Study time (Hours)                               0.005344            0.024280   \n",
              "Sleep time (Hours)                              -0.072031            0.051531   \n",
              "Time spent on social media (Hours)               0.005455            0.004833   \n",
              "Your interaction in online mode                  0.171943           -0.005144   \n",
              "Clearing doubts with faculties in online mode    0.125559           -0.008595   \n",
              "Performance in online                            0.114965            0.012740   \n",
              "\n",
              "                                               Family size  \\\n",
              "Age(Years)                                        0.016893   \n",
              "Number of Subjects                                0.035997   \n",
              "Family size                                       1.000000   \n",
              "Internet facility in your locality               -0.020996   \n",
              "Study time (Hours)                                0.060614   \n",
              "Sleep time (Hours)                               -0.015787   \n",
              "Time spent on social media (Hours)                0.053512   \n",
              "Your interaction in online mode                  -0.024268   \n",
              "Clearing doubts with faculties in online mode    -0.019461   \n",
              "Performance in online                             0.001549   \n",
              "\n",
              "                                               Internet facility in your locality  \\\n",
              "Age(Years)                                                               0.072625   \n",
              "Number of Subjects                                                      -0.025915   \n",
              "Family size                                                             -0.020996   \n",
              "Internet facility in your locality                                       1.000000   \n",
              "Study time (Hours)                                                      -0.011554   \n",
              "Sleep time (Hours)                                                       0.051838   \n",
              "Time spent on social media (Hours)                                       0.082772   \n",
              "Your interaction in online mode                                          0.204391   \n",
              "Clearing doubts with faculties in online mode                            0.158990   \n",
              "Performance in online                                                    0.257339   \n",
              "\n",
              "                                               Study time (Hours)  \\\n",
              "Age(Years)                                               0.005344   \n",
              "Number of Subjects                                       0.024280   \n",
              "Family size                                              0.060614   \n",
              "Internet facility in your locality                      -0.011554   \n",
              "Study time (Hours)                                       1.000000   \n",
              "Sleep time (Hours)                                      -0.044385   \n",
              "Time spent on social media (Hours)                      -0.125986   \n",
              "Your interaction in online mode                          0.148859   \n",
              "Clearing doubts with faculties in online mode            0.175169   \n",
              "Performance in online                                    0.134344   \n",
              "\n",
              "                                               Sleep time (Hours)  \\\n",
              "Age(Years)                                              -0.072031   \n",
              "Number of Subjects                                       0.051531   \n",
              "Family size                                             -0.015787   \n",
              "Internet facility in your locality                       0.051838   \n",
              "Study time (Hours)                                      -0.044385   \n",
              "Sleep time (Hours)                                       1.000000   \n",
              "Time spent on social media (Hours)                       0.144587   \n",
              "Your interaction in online mode                          0.032598   \n",
              "Clearing doubts with faculties in online mode            0.043402   \n",
              "Performance in online                                    0.065020   \n",
              "\n",
              "                                               Time spent on social media (Hours)  \\\n",
              "Age(Years)                                                               0.005455   \n",
              "Number of Subjects                                                       0.004833   \n",
              "Family size                                                              0.053512   \n",
              "Internet facility in your locality                                       0.082772   \n",
              "Study time (Hours)                                                      -0.125986   \n",
              "Sleep time (Hours)                                                       0.144587   \n",
              "Time spent on social media (Hours)                                       1.000000   \n",
              "Your interaction in online mode                                         -0.083972   \n",
              "Clearing doubts with faculties in online mode                           -0.101847   \n",
              "Performance in online                                                   -0.086568   \n",
              "\n",
              "                                               Your interaction in online mode  \\\n",
              "Age(Years)                                                            0.171943   \n",
              "Number of Subjects                                                   -0.005144   \n",
              "Family size                                                          -0.024268   \n",
              "Internet facility in your locality                                    0.204391   \n",
              "Study time (Hours)                                                    0.148859   \n",
              "Sleep time (Hours)                                                    0.032598   \n",
              "Time spent on social media (Hours)                                   -0.083972   \n",
              "Your interaction in online mode                                       1.000000   \n",
              "Clearing doubts with faculties in online mode                         0.723216   \n",
              "Performance in online                                                 0.557507   \n",
              "\n",
              "                                               Clearing doubts with faculties in online mode  \\\n",
              "Age(Years)                                                                          0.125559   \n",
              "Number of Subjects                                                                 -0.008595   \n",
              "Family size                                                                        -0.019461   \n",
              "Internet facility in your locality                                                  0.158990   \n",
              "Study time (Hours)                                                                  0.175169   \n",
              "Sleep time (Hours)                                                                  0.043402   \n",
              "Time spent on social media (Hours)                                                 -0.101847   \n",
              "Your interaction in online mode                                                     0.723216   \n",
              "Clearing doubts with faculties in online mode                                       1.000000   \n",
              "Performance in online                                                               0.561091   \n",
              "\n",
              "                                               Performance in online  \n",
              "Age(Years)                                                  0.114965  \n",
              "Number of Subjects                                          0.012740  \n",
              "Family size                                                 0.001549  \n",
              "Internet facility in your locality                          0.257339  \n",
              "Study time (Hours)                                          0.134344  \n",
              "Sleep time (Hours)                                          0.065020  \n",
              "Time spent on social media (Hours)                         -0.086568  \n",
              "Your interaction in online mode                             0.557507  \n",
              "Clearing doubts with faculties in online mode               0.561091  \n",
              "Performance in online                                       1.000000  "
            ],
            "text/html": [
              "\n",
              "  <div id=\"df-1a05ed94-3f2c-4815-9a20-4e60ac624b39\" class=\"colab-df-container\">\n",
              "    <div>\n",
              "<style scoped>\n",
              "    .dataframe tbody tr th:only-of-type {\n",
              "        vertical-align: middle;\n",
              "    }\n",
              "\n",
              "    .dataframe tbody tr th {\n",
              "        vertical-align: top;\n",
              "    }\n",
              "\n",
              "    .dataframe thead th {\n",
              "        text-align: right;\n",
              "    }\n",
              "</style>\n",
              "<table border=\"1\" class=\"dataframe\">\n",
              "  <thead>\n",
              "    <tr style=\"text-align: right;\">\n",
              "      <th></th>\n",
              "      <th>Age(Years)</th>\n",
              "      <th>Number of Subjects</th>\n",
              "      <th>Family size</th>\n",
              "      <th>Internet facility in your locality</th>\n",
              "      <th>Study time (Hours)</th>\n",
              "      <th>Sleep time (Hours)</th>\n",
              "      <th>Time spent on social media (Hours)</th>\n",
              "      <th>Your interaction in online mode</th>\n",
              "      <th>Clearing doubts with faculties in online mode</th>\n",
              "      <th>Performance in online</th>\n",
              "    </tr>\n",
              "  </thead>\n",
              "  <tbody>\n",
              "    <tr>\n",
              "      <th>Age(Years)</th>\n",
              "      <td>1.000000</td>\n",
              "      <td>-0.011505</td>\n",
              "      <td>0.016893</td>\n",
              "      <td>0.072625</td>\n",
              "      <td>0.005344</td>\n",
              "      <td>-0.072031</td>\n",
              "      <td>0.005455</td>\n",
              "      <td>0.171943</td>\n",
              "      <td>0.125559</td>\n",
              "      <td>0.114965</td>\n",
              "    </tr>\n",
              "    <tr>\n",
              "      <th>Number of Subjects</th>\n",
              "      <td>-0.011505</td>\n",
              "      <td>1.000000</td>\n",
              "      <td>0.035997</td>\n",
              "      <td>-0.025915</td>\n",
              "      <td>0.024280</td>\n",
              "      <td>0.051531</td>\n",
              "      <td>0.004833</td>\n",
              "      <td>-0.005144</td>\n",
              "      <td>-0.008595</td>\n",
              "      <td>0.012740</td>\n",
              "    </tr>\n",
              "    <tr>\n",
              "      <th>Family size</th>\n",
              "      <td>0.016893</td>\n",
              "      <td>0.035997</td>\n",
              "      <td>1.000000</td>\n",
              "      <td>-0.020996</td>\n",
              "      <td>0.060614</td>\n",
              "      <td>-0.015787</td>\n",
              "      <td>0.053512</td>\n",
              "      <td>-0.024268</td>\n",
              "      <td>-0.019461</td>\n",
              "      <td>0.001549</td>\n",
              "    </tr>\n",
              "    <tr>\n",
              "      <th>Internet facility in your locality</th>\n",
              "      <td>0.072625</td>\n",
              "      <td>-0.025915</td>\n",
              "      <td>-0.020996</td>\n",
              "      <td>1.000000</td>\n",
              "      <td>-0.011554</td>\n",
              "      <td>0.051838</td>\n",
              "      <td>0.082772</td>\n",
              "      <td>0.204391</td>\n",
              "      <td>0.158990</td>\n",
              "      <td>0.257339</td>\n",
              "    </tr>\n",
              "    <tr>\n",
              "      <th>Study time (Hours)</th>\n",
              "      <td>0.005344</td>\n",
              "      <td>0.024280</td>\n",
              "      <td>0.060614</td>\n",
              "      <td>-0.011554</td>\n",
              "      <td>1.000000</td>\n",
              "      <td>-0.044385</td>\n",
              "      <td>-0.125986</td>\n",
              "      <td>0.148859</td>\n",
              "      <td>0.175169</td>\n",
              "      <td>0.134344</td>\n",
              "    </tr>\n",
              "    <tr>\n",
              "      <th>Sleep time (Hours)</th>\n",
              "      <td>-0.072031</td>\n",
              "      <td>0.051531</td>\n",
              "      <td>-0.015787</td>\n",
              "      <td>0.051838</td>\n",
              "      <td>-0.044385</td>\n",
              "      <td>1.000000</td>\n",
              "      <td>0.144587</td>\n",
              "      <td>0.032598</td>\n",
              "      <td>0.043402</td>\n",
              "      <td>0.065020</td>\n",
              "    </tr>\n",
              "    <tr>\n",
              "      <th>Time spent on social media (Hours)</th>\n",
              "      <td>0.005455</td>\n",
              "      <td>0.004833</td>\n",
              "      <td>0.053512</td>\n",
              "      <td>0.082772</td>\n",
              "      <td>-0.125986</td>\n",
              "      <td>0.144587</td>\n",
              "      <td>1.000000</td>\n",
              "      <td>-0.083972</td>\n",
              "      <td>-0.101847</td>\n",
              "      <td>-0.086568</td>\n",
              "    </tr>\n",
              "    <tr>\n",
              "      <th>Your interaction in online mode</th>\n",
              "      <td>0.171943</td>\n",
              "      <td>-0.005144</td>\n",
              "      <td>-0.024268</td>\n",
              "      <td>0.204391</td>\n",
              "      <td>0.148859</td>\n",
              "      <td>0.032598</td>\n",
              "      <td>-0.083972</td>\n",
              "      <td>1.000000</td>\n",
              "      <td>0.723216</td>\n",
              "      <td>0.557507</td>\n",
              "    </tr>\n",
              "    <tr>\n",
              "      <th>Clearing doubts with faculties in online mode</th>\n",
              "      <td>0.125559</td>\n",
              "      <td>-0.008595</td>\n",
              "      <td>-0.019461</td>\n",
              "      <td>0.158990</td>\n",
              "      <td>0.175169</td>\n",
              "      <td>0.043402</td>\n",
              "      <td>-0.101847</td>\n",
              "      <td>0.723216</td>\n",
              "      <td>1.000000</td>\n",
              "      <td>0.561091</td>\n",
              "    </tr>\n",
              "    <tr>\n",
              "      <th>Performance in online</th>\n",
              "      <td>0.114965</td>\n",
              "      <td>0.012740</td>\n",
              "      <td>0.001549</td>\n",
              "      <td>0.257339</td>\n",
              "      <td>0.134344</td>\n",
              "      <td>0.065020</td>\n",
              "      <td>-0.086568</td>\n",
              "      <td>0.557507</td>\n",
              "      <td>0.561091</td>\n",
              "      <td>1.000000</td>\n",
              "    </tr>\n",
              "  </tbody>\n",
              "</table>\n",
              "</div>\n",
              "    <div class=\"colab-df-buttons\">\n",
              "\n",
              "  <div class=\"colab-df-container\">\n",
              "    <button class=\"colab-df-convert\" onclick=\"convertToInteractive('df-1a05ed94-3f2c-4815-9a20-4e60ac624b39')\"\n",
              "            title=\"Convert this dataframe to an interactive table.\"\n",
              "            style=\"display:none;\">\n",
              "\n",
              "  <svg xmlns=\"http://www.w3.org/2000/svg\" height=\"24px\" viewBox=\"0 -960 960 960\">\n",
              "    <path d=\"M120-120v-720h720v720H120Zm60-500h600v-160H180v160Zm220 220h160v-160H400v160Zm0 220h160v-160H400v160ZM180-400h160v-160H180v160Zm440 0h160v-160H620v160ZM180-180h160v-160H180v160Zm440 0h160v-160H620v160Z\"/>\n",
              "  </svg>\n",
              "    </button>\n",
              "\n",
              "  <style>\n",
              "    .colab-df-container {\n",
              "      display:flex;\n",
              "      gap: 12px;\n",
              "    }\n",
              "\n",
              "    .colab-df-convert {\n",
              "      background-color: #E8F0FE;\n",
              "      border: none;\n",
              "      border-radius: 50%;\n",
              "      cursor: pointer;\n",
              "      display: none;\n",
              "      fill: #1967D2;\n",
              "      height: 32px;\n",
              "      padding: 0 0 0 0;\n",
              "      width: 32px;\n",
              "    }\n",
              "\n",
              "    .colab-df-convert:hover {\n",
              "      background-color: #E2EBFA;\n",
              "      box-shadow: 0px 1px 2px rgba(60, 64, 67, 0.3), 0px 1px 3px 1px rgba(60, 64, 67, 0.15);\n",
              "      fill: #174EA6;\n",
              "    }\n",
              "\n",
              "    .colab-df-buttons div {\n",
              "      margin-bottom: 4px;\n",
              "    }\n",
              "\n",
              "    [theme=dark] .colab-df-convert {\n",
              "      background-color: #3B4455;\n",
              "      fill: #D2E3FC;\n",
              "    }\n",
              "\n",
              "    [theme=dark] .colab-df-convert:hover {\n",
              "      background-color: #434B5C;\n",
              "      box-shadow: 0px 1px 3px 1px rgba(0, 0, 0, 0.15);\n",
              "      filter: drop-shadow(0px 1px 2px rgba(0, 0, 0, 0.3));\n",
              "      fill: #FFFFFF;\n",
              "    }\n",
              "  </style>\n",
              "\n",
              "    <script>\n",
              "      const buttonEl =\n",
              "        document.querySelector('#df-1a05ed94-3f2c-4815-9a20-4e60ac624b39 button.colab-df-convert');\n",
              "      buttonEl.style.display =\n",
              "        google.colab.kernel.accessAllowed ? 'block' : 'none';\n",
              "\n",
              "      async function convertToInteractive(key) {\n",
              "        const element = document.querySelector('#df-1a05ed94-3f2c-4815-9a20-4e60ac624b39');\n",
              "        const dataTable =\n",
              "          await google.colab.kernel.invokeFunction('convertToInteractive',\n",
              "                                                    [key], {});\n",
              "        if (!dataTable) return;\n",
              "\n",
              "        const docLinkHtml = 'Like what you see? Visit the ' +\n",
              "          '<a target=\"_blank\" href=https://colab.research.google.com/notebooks/data_table.ipynb>data table notebook</a>'\n",
              "          + ' to learn more about interactive tables.';\n",
              "        element.innerHTML = '';\n",
              "        dataTable['output_type'] = 'display_data';\n",
              "        await google.colab.output.renderOutput(dataTable, element);\n",
              "        const docLink = document.createElement('div');\n",
              "        docLink.innerHTML = docLinkHtml;\n",
              "        element.appendChild(docLink);\n",
              "      }\n",
              "    </script>\n",
              "  </div>\n",
              "\n",
              "\n",
              "<div id=\"df-16f18fa0-c196-4287-874a-bcc02f721321\">\n",
              "  <button class=\"colab-df-quickchart\" onclick=\"quickchart('df-16f18fa0-c196-4287-874a-bcc02f721321')\"\n",
              "            title=\"Suggest charts.\"\n",
              "            style=\"display:none;\">\n",
              "\n",
              "<svg xmlns=\"http://www.w3.org/2000/svg\" height=\"24px\"viewBox=\"0 0 24 24\"\n",
              "     width=\"24px\">\n",
              "    <g>\n",
              "        <path d=\"M19 3H5c-1.1 0-2 .9-2 2v14c0 1.1.9 2 2 2h14c1.1 0 2-.9 2-2V5c0-1.1-.9-2-2-2zM9 17H7v-7h2v7zm4 0h-2V7h2v10zm4 0h-2v-4h2v4z\"/>\n",
              "    </g>\n",
              "</svg>\n",
              "  </button>\n",
              "\n",
              "<style>\n",
              "  .colab-df-quickchart {\n",
              "      --bg-color: #E8F0FE;\n",
              "      --fill-color: #1967D2;\n",
              "      --hover-bg-color: #E2EBFA;\n",
              "      --hover-fill-color: #174EA6;\n",
              "      --disabled-fill-color: #AAA;\n",
              "      --disabled-bg-color: #DDD;\n",
              "  }\n",
              "\n",
              "  [theme=dark] .colab-df-quickchart {\n",
              "      --bg-color: #3B4455;\n",
              "      --fill-color: #D2E3FC;\n",
              "      --hover-bg-color: #434B5C;\n",
              "      --hover-fill-color: #FFFFFF;\n",
              "      --disabled-bg-color: #3B4455;\n",
              "      --disabled-fill-color: #666;\n",
              "  }\n",
              "\n",
              "  .colab-df-quickchart {\n",
              "    background-color: var(--bg-color);\n",
              "    border: none;\n",
              "    border-radius: 50%;\n",
              "    cursor: pointer;\n",
              "    display: none;\n",
              "    fill: var(--fill-color);\n",
              "    height: 32px;\n",
              "    padding: 0;\n",
              "    width: 32px;\n",
              "  }\n",
              "\n",
              "  .colab-df-quickchart:hover {\n",
              "    background-color: var(--hover-bg-color);\n",
              "    box-shadow: 0 1px 2px rgba(60, 64, 67, 0.3), 0 1px 3px 1px rgba(60, 64, 67, 0.15);\n",
              "    fill: var(--button-hover-fill-color);\n",
              "  }\n",
              "\n",
              "  .colab-df-quickchart-complete:disabled,\n",
              "  .colab-df-quickchart-complete:disabled:hover {\n",
              "    background-color: var(--disabled-bg-color);\n",
              "    fill: var(--disabled-fill-color);\n",
              "    box-shadow: none;\n",
              "  }\n",
              "\n",
              "  .colab-df-spinner {\n",
              "    border: 2px solid var(--fill-color);\n",
              "    border-color: transparent;\n",
              "    border-bottom-color: var(--fill-color);\n",
              "    animation:\n",
              "      spin 1s steps(1) infinite;\n",
              "  }\n",
              "\n",
              "  @keyframes spin {\n",
              "    0% {\n",
              "      border-color: transparent;\n",
              "      border-bottom-color: var(--fill-color);\n",
              "      border-left-color: var(--fill-color);\n",
              "    }\n",
              "    20% {\n",
              "      border-color: transparent;\n",
              "      border-left-color: var(--fill-color);\n",
              "      border-top-color: var(--fill-color);\n",
              "    }\n",
              "    30% {\n",
              "      border-color: transparent;\n",
              "      border-left-color: var(--fill-color);\n",
              "      border-top-color: var(--fill-color);\n",
              "      border-right-color: var(--fill-color);\n",
              "    }\n",
              "    40% {\n",
              "      border-color: transparent;\n",
              "      border-right-color: var(--fill-color);\n",
              "      border-top-color: var(--fill-color);\n",
              "    }\n",
              "    60% {\n",
              "      border-color: transparent;\n",
              "      border-right-color: var(--fill-color);\n",
              "    }\n",
              "    80% {\n",
              "      border-color: transparent;\n",
              "      border-right-color: var(--fill-color);\n",
              "      border-bottom-color: var(--fill-color);\n",
              "    }\n",
              "    90% {\n",
              "      border-color: transparent;\n",
              "      border-bottom-color: var(--fill-color);\n",
              "    }\n",
              "  }\n",
              "</style>\n",
              "\n",
              "  <script>\n",
              "    async function quickchart(key) {\n",
              "      const quickchartButtonEl =\n",
              "        document.querySelector('#' + key + ' button');\n",
              "      quickchartButtonEl.disabled = true;  // To prevent multiple clicks.\n",
              "      quickchartButtonEl.classList.add('colab-df-spinner');\n",
              "      try {\n",
              "        const charts = await google.colab.kernel.invokeFunction(\n",
              "            'suggestCharts', [key], {});\n",
              "      } catch (error) {\n",
              "        console.error('Error during call to suggestCharts:', error);\n",
              "      }\n",
              "      quickchartButtonEl.classList.remove('colab-df-spinner');\n",
              "      quickchartButtonEl.classList.add('colab-df-quickchart-complete');\n",
              "    }\n",
              "    (() => {\n",
              "      let quickchartButtonEl =\n",
              "        document.querySelector('#df-16f18fa0-c196-4287-874a-bcc02f721321 button');\n",
              "      quickchartButtonEl.style.display =\n",
              "        google.colab.kernel.accessAllowed ? 'block' : 'none';\n",
              "    })();\n",
              "  </script>\n",
              "</div>\n",
              "    </div>\n",
              "  </div>\n"
            ]
          },
          "metadata": {},
          "execution_count": 16
        }
      ]
    },
    {
      "cell_type": "code",
      "source": [
        "k.drop([\"Have separate room for studying?\"], axis=1,inplace=True)\n",
        "k.columns"
      ],
      "metadata": {
        "colab": {
          "base_uri": "https://localhost:8080/"
        },
        "id": "PF0CbF-F1-n9",
        "outputId": "74c59833-8ad3-4aab-fd63-8d721a057d7a"
      },
      "execution_count": 17,
      "outputs": [
        {
          "output_type": "execute_result",
          "data": {
            "text/plain": [
              "Index(['Gender', 'Home Location', 'Level of Education', 'Age(Years)',\n",
              "       'Number of Subjects', 'Device type used to attend classes',\n",
              "       'Economic status', 'Family size', 'Internet facility in your locality',\n",
              "       'Are you involved in any sports?', 'Do elderly people monitor you?',\n",
              "       'Study time (Hours)', 'Sleep time (Hours)',\n",
              "       'Time spent on social media (Hours)', 'Interested in Gaming?',\n",
              "       'Engaged in group studies?',\n",
              "       'Average marks scored before pandemic in traditional classroom',\n",
              "       'Your interaction in online mode',\n",
              "       'Clearing doubts with faculties in online mode', 'Interested in?',\n",
              "       'Performance in online',\n",
              "       'Your level of satisfaction in Online Education'],\n",
              "      dtype='object')"
            ]
          },
          "metadata": {},
          "execution_count": 17
        }
      ]
    },
    {
      "cell_type": "markdown",
      "source": [
        "# EDA"
      ],
      "metadata": {
        "id": "v-ilAep12SU7"
      }
    },
    {
      "cell_type": "markdown",
      "source": [
        "1.How Gender impacts Online Education"
      ],
      "metadata": {
        "id": "2cLF75FP2drJ"
      }
    },
    {
      "cell_type": "code",
      "source": [
        "k['Gender'].value_counts()"
      ],
      "metadata": {
        "colab": {
          "base_uri": "https://localhost:8080/"
        },
        "id": "_OCPSES92Lt8",
        "outputId": "e5b89285-4351-4ef6-9b4b-8275c995a629"
      },
      "execution_count": 20,
      "outputs": [
        {
          "output_type": "execute_result",
          "data": {
            "text/plain": [
              "Male      614\n",
              "Female    419\n",
              "Name: Gender, dtype: int64"
            ]
          },
          "metadata": {},
          "execution_count": 20
        }
      ]
    },
    {
      "cell_type": "code",
      "source": [
        "plt.figure(figsize=(5,5))\n",
        "k['Gender'].value_counts().plot(kind = \"pie\" ,autopct='%1.1f%%')    # autopct display the percent value using string formatting\n",
        "plt.title('Gender',size=20)"
      ],
      "metadata": {
        "colab": {
          "base_uri": "https://localhost:8080/",
          "height": 469
        },
        "id": "zKQKJwa52kFR",
        "outputId": "1c1c207f-07a7-4f93-941f-069be742ddad"
      },
      "execution_count": 21,
      "outputs": [
        {
          "output_type": "execute_result",
          "data": {
            "text/plain": [
              "Text(0.5, 1.0, 'Gender')"
            ]
          },
          "metadata": {},
          "execution_count": 21
        },
        {
          "output_type": "display_data",
          "data": {
            "text/plain": [
              "<Figure size 500x500 with 1 Axes>"
            ],
            "image/png": "[encoded data removed]"
          },
          "metadata": {}
        }
      ]
    },
    {
      "cell_type": "markdown",
      "source": [
        "2. How Age Group impacts Online Education"
      ],
      "metadata": {
        "id": "SvjhnDc92sW5"
      }
    },
    {
      "cell_type": "code",
      "source": [
        "# plotting the count plot\n",
        "\n",
        "plt.figure(figsize=(18, 8))\n",
        "sns.set(style='darkgrid')\n",
        "plot = sns.countplot(x='Age(Years)', data=k, palette= 'Dark2')  # palette are to control colors or patterns of a colume\n",
        "plt.title('Age Distribution', size= 20)\n",
        "plt.xlabel('Age groups', weight='bold')\n",
        "plt.ylabel('Number of students', weight='bold')\n",
        "plt.show()"
      ],
      "metadata": {
        "colab": {
          "base_uri": "https://localhost:8080/",
          "height": 621
        },
        "id": "ov-rxcGg2n6N",
        "outputId": "70452c7d-6939-4ff6-ef6d-b13f0c0d8d0e"
      },
      "execution_count": 23,
      "outputs": [
        {
          "output_type": "display_data",
          "data": {
            "text/plain": [
              "<Figure size 1800x800 with 1 Axes>"
            ],
            "image/png": "[encoded data removed]"
          },
          "metadata": {}
        }
      ]
    },
    {
      "cell_type": "markdown",
      "source": [
        "3.How Education Level impacts Online Education?"
      ],
      "metadata": {
        "id": "E78TTKhP25ae"
      }
    },
    {
      "cell_type": "code",
      "source": [
        "k['Level of Education'].value_counts()"
      ],
      "metadata": {
        "colab": {
          "base_uri": "https://localhost:8080/"
        },
        "id": "B3ei8OTP2y0_",
        "outputId": "798fa55f-958c-4902-a052-fe15ef7b4154"
      },
      "execution_count": 24,
      "outputs": [
        {
          "output_type": "execute_result",
          "data": {
            "text/plain": [
              "Under Graduate    817\n",
              "Post Graduate     129\n",
              "School             87\n",
              "Name: Level of Education, dtype: int64"
            ]
          },
          "metadata": {},
          "execution_count": 24
        }
      ]
    },
    {
      "cell_type": "code",
      "source": [
        "plt.figure(figsize=(5,5))\n",
        "sns.histplot(k, x = k['Level of Education'], color = 'midnightblue')\n",
        "plt.title('Level of Education',weight='bold', size = 15)\n",
        "plt.xlabel('Level of Education',weight='bold')\n",
        "plt.ylabel('No. of students',weight='bold')\n",
        "plt.show()"
      ],
      "metadata": {
        "colab": {
          "base_uri": "https://localhost:8080/",
          "height": 498
        },
        "id": "OMiFpOTx29wH",
        "outputId": "5d27518a-2b9a-408f-8cd1-bf891129361d"
      },
      "execution_count": 26,
      "outputs": [
        {
          "output_type": "display_data",
          "data": {
            "text/plain": [
              "<Figure size 500x500 with 1 Axes>"
            ],
            "image/png": "[encoded data removed]"
          },
          "metadata": {}
        }
      ]
    },
    {
      "cell_type": "code",
      "source": [],
      "metadata": {
        "id": "5Q9GHy5x3jrb"
      },
      "execution_count": null,
      "outputs": []
    },
    {
      "cell_type": "markdown",
      "source": [
        "4.How location impacts Online Education?"
      ],
      "metadata": {
        "id": "FZ9kwvjA3KwQ"
      }
    },
    {
      "cell_type": "code",
      "source": [
        "k['Home Location'].value_counts()"
      ],
      "metadata": {
        "colab": {
          "base_uri": "https://localhost:8080/"
        },
        "id": "Z6QajmI33Fk7",
        "outputId": "387d3eef-b5f4-421a-ab47-b95a3a157e4f"
      },
      "execution_count": 29,
      "outputs": [
        {
          "output_type": "execute_result",
          "data": {
            "text/plain": [
              "Urban    679\n",
              "Rural    354\n",
              "Name: Home Location, dtype: int64"
            ]
          },
          "metadata": {},
          "execution_count": 27
        },
        {
          "output_type": "execute_result",
          "data": {
            "text/plain": [
              "Urban    679\n",
              "Rural    354\n",
              "Name: Home Location, dtype: int64"
            ]
          },
          "metadata": {},
          "execution_count": 29
        }
      ]
    },
    {
      "cell_type": "code",
      "source": [
        "plt.figure(figsize=(5,5))\n",
        "k['Home Location'].value_counts().plot(kind = \"pie\" ,autopct='%1.1f%%')    # autopct display the percent value using string formatting\n",
        "plt.title('Home Location',size=20)"
      ],
      "metadata": {
        "colab": {
          "base_uri": "https://localhost:8080/",
          "height": 469
        },
        "id": "0aB1H79-3PKp",
        "outputId": "f976b0dd-42d9-48b4-d5d2-caaf23a35b3f"
      },
      "execution_count": 28,
      "outputs": [
        {
          "output_type": "execute_result",
          "data": {
            "text/plain": [
              "Text(0.5, 1.0, 'Home Location')"
            ]
          },
          "metadata": {},
          "execution_count": 28
        },
        {
          "output_type": "display_data",
          "data": {
            "text/plain": [
              "<Figure size 500x500 with 1 Axes>"
            ],
            "image/png": "[encoded data removed]"
          },
          "metadata": {}
        }
      ]
    },
    {
      "cell_type": "markdown",
      "source": [
        "5.How device type impacts Online Education?"
      ],
      "metadata": {
        "id": "Tyxd7B7z3pU-"
      }
    },
    {
      "cell_type": "code",
      "source": [
        "k['Device type used to attend classes'].value_counts()"
      ],
      "metadata": {
        "colab": {
          "base_uri": "https://localhost:8080/"
        },
        "id": "_kVZLV1W3Uen",
        "outputId": "7ccdc279-ad24-4b0a-e93f-10a2d7f3f8e7"
      },
      "execution_count": 30,
      "outputs": [
        {
          "output_type": "execute_result",
          "data": {
            "text/plain": [
              "Laptop     672\n",
              "Mobile     334\n",
              "Desktop     27\n",
              "Name: Device type used to attend classes, dtype: int64"
            ]
          },
          "metadata": {},
          "execution_count": 30
        }
      ]
    },
    {
      "cell_type": "code",
      "source": [
        "plt.figure(figsize=(18, 8))\n",
        "sns.set(style='darkgrid')\n",
        "plot = sns.countplot(x='Device type used to attend classes', data=k, palette= 'Dark2')  # palette are to control colors or patterns of a colume\n",
        "plt.title('Device type', size= 20)\n",
        "plt.xlabel('Device type used to attend classes', weight='bold')\n",
        "plt.ylabel('Number of students', weight='bold')\n",
        "plt.show()"
      ],
      "metadata": {
        "colab": {
          "base_uri": "https://localhost:8080/",
          "height": 621
        },
        "id": "_9ObC54R3ttT",
        "outputId": "9f6d00ef-e1eb-4dd3-d166-1e78b575c4b9"
      },
      "execution_count": 31,
      "outputs": [
        {
          "output_type": "display_data",
          "data": {
            "text/plain": [
              "<Figure size 1800x800 with 1 Axes>"
            ],
            "image/png": "[encoded data removed]"
          },
          "metadata": {}
        }
      ]
    },
    {
      "cell_type": "markdown",
      "source": [
        "6.Average marks scored before pandemic in traditional classroom"
      ],
      "metadata": {
        "id": "oWJbwUEF39xH"
      }
    },
    {
      "cell_type": "code",
      "source": [
        "\n",
        "plt.figure(figsize=(18, 8))\n",
        "sns.set(style='darkgrid')\n",
        "plot = sns.countplot(x='Average marks scored before pandemic in traditional classroom', data=k, palette= 'Dark2')  # palette are to control colors or patterns of a colume\n",
        "plt.title('Average marks scored before pandemic in traditional classroom', size= 20)\n",
        "plt.xlabel('Average marks scored before pandemic in traditional classroom', weight='bold')\n",
        "plt.ylabel('Number of students', weight='bold')\n",
        "plt.show()"
      ],
      "metadata": {
        "colab": {
          "base_uri": "https://localhost:8080/",
          "height": 621
        },
        "id": "ILlIAWY9310d",
        "outputId": "f8fc54ce-f9ff-4826-9577-b863b4295e1b"
      },
      "execution_count": 33,
      "outputs": [
        {
          "output_type": "display_data",
          "data": {
            "text/plain": [
              "<Figure size 1800x800 with 1 Axes>"
            ],
            "image/png": "[encoded data removed]"
          },
          "metadata": {}
        }
      ]
    },
    {
      "cell_type": "markdown",
      "source": [
        "7. How Online Education impact on sports"
      ],
      "metadata": {
        "id": "oetZRFxt4Orz"
      }
    },
    {
      "cell_type": "code",
      "source": [
        "k['Are you involved in any sports?'].value_counts()"
      ],
      "metadata": {
        "colab": {
          "base_uri": "https://localhost:8080/"
        },
        "id": "H2-BL5kG4J9s",
        "outputId": "e9aa7a3c-0428-492c-d5e6-1f7e75f787d7"
      },
      "execution_count": 34,
      "outputs": [
        {
          "output_type": "execute_result",
          "data": {
            "text/plain": [
              "No     663\n",
              "Yes    370\n",
              "Name: Are you involved in any sports?, dtype: int64"
            ]
          },
          "metadata": {},
          "execution_count": 34
        }
      ]
    },
    {
      "cell_type": "code",
      "source": [
        "plt.figure(figsize=(5,5))\n",
        "sns.histplot(k, x = k['Are you involved in any sports?'],color='g')\n",
        "plt.title('Are you involved in any sports?',weight='bold', size = 15)\n",
        "plt.xlabel('Are you involved in any sports?',weight='bold')\n",
        "plt.ylabel('No. of students',weight='bold')\n",
        "plt.show()"
      ],
      "metadata": {
        "colab": {
          "base_uri": "https://localhost:8080/",
          "height": 498
        },
        "id": "MNqoDLHl4Sns",
        "outputId": "cceb27f3-6352-4661-8f3d-0022177a55f9"
      },
      "execution_count": 35,
      "outputs": [
        {
          "output_type": "display_data",
          "data": {
            "text/plain": [
              "<Figure size 500x500 with 1 Axes>"
            ],
            "image/png": "[encoded data removed]"
          },
          "metadata": {}
        }
      ]
    },
    {
      "cell_type": "markdown",
      "source": [
        "8. The level of satisfaction in Online Education."
      ],
      "metadata": {
        "id": "vKl80IIf4h3Q"
      }
    },
    {
      "cell_type": "code",
      "source": [
        "k['Your level of satisfaction in Online Education'].value_counts()"
      ],
      "metadata": {
        "colab": {
          "base_uri": "https://localhost:8080/"
        },
        "id": "54XNNJFS4btV",
        "outputId": "dcaa68cf-ad5b-419c-ffb7-3d9ee320f5c4"
      },
      "execution_count": 36,
      "outputs": [
        {
          "output_type": "execute_result",
          "data": {
            "text/plain": [
              "Average    541\n",
              "Good       251\n",
              "Bad        241\n",
              "Name: Your level of satisfaction in Online Education, dtype: int64"
            ]
          },
          "metadata": {},
          "execution_count": 36
        }
      ]
    },
    {
      "cell_type": "code",
      "source": [
        "plt.figure(figsize=(5,5))\n",
        "k['Your level of satisfaction in Online Education'].value_counts().plot(kind = \"pie\" ,autopct='%1.1f%%')    # autopct display the percent value using string formatting\n",
        "plt.title('Your level of satisfaction in Online Education',size=20)"
      ],
      "metadata": {
        "colab": {
          "base_uri": "https://localhost:8080/",
          "height": 469
        },
        "id": "uGBhySKm4mCv",
        "outputId": "a2c67c45-5be0-4a34-f559-37c0532dd834"
      },
      "execution_count": 38,
      "outputs": [
        {
          "output_type": "execute_result",
          "data": {
            "text/plain": [
              "Text(0.5, 1.0, 'Your level of satisfaction in Online Education')"
            ]
          },
          "metadata": {},
          "execution_count": 38
        },
        {
          "output_type": "display_data",
          "data": {
            "text/plain": [
              "<Figure size 500x500 with 1 Axes>"
            ],
            "image/png": "[encoded data removed]"
          },
          "metadata": {}
        }
      ]
    },
    {
      "cell_type": "markdown",
      "source": [
        "9. student's Interested in what?(practical,theory,both)"
      ],
      "metadata": {
        "id": "oNt_Ba--5PVg"
      }
    },
    {
      "cell_type": "code",
      "source": [
        "plt.figure(figsize=(8,6))\n",
        "sns.countplot(x=k['Interested in?'])\n",
        "plt.title('Interested in?',weight='bold', size = 15)\n",
        "plt.xlabel('Interested in?',weight='bold')\n",
        "plt.ylabel('No. of students',weight='bold')\n",
        "plt.show()\n"
      ],
      "metadata": {
        "colab": {
          "base_uri": "https://localhost:8080/",
          "height": 575
        },
        "id": "_fzMm6u44qyl",
        "outputId": "5f17015d-00bf-444c-910f-2b0919934ba3"
      },
      "execution_count": 39,
      "outputs": [
        {
          "output_type": "display_data",
          "data": {
            "text/plain": [
              "<Figure size 800x600 with 1 Axes>"
            ],
            "image/png": "[encoded data removed]"
          },
          "metadata": {}
        }
      ]
    },
    {
      "cell_type": "markdown",
      "source": [
        "10.Time spend on study"
      ],
      "metadata": {
        "id": "eurhNGxr5XRU"
      }
    },
    {
      "cell_type": "code",
      "source": [
        "k['Study time (Hours)'].value_counts()"
      ],
      "metadata": {
        "colab": {
          "base_uri": "https://localhost:8080/"
        },
        "id": "74EWrvPv5UzA",
        "outputId": "29e6d322-edce-400d-fb7d-51dd181584c7"
      },
      "execution_count": 41,
      "outputs": [
        {
          "output_type": "execute_result",
          "data": {
            "text/plain": [
              "4     213\n",
              "3     181\n",
              "5     150\n",
              "2     144\n",
              "6     109\n",
              "1      73\n",
              "8      68\n",
              "7      58\n",
              "10     25\n",
              "9      12\n",
              "Name: Study time (Hours), dtype: int64"
            ]
          },
          "metadata": {},
          "execution_count": 41
        }
      ]
    },
    {
      "cell_type": "code",
      "source": [
        "plt.figure(figsize=(18, 8))\n",
        "sns.set(style='darkgrid')\n",
        "plot = sns.countplot(x='Study time (Hours)', data=k, palette= 'Dark2')  # palette are to control colors or patterns of a colume\n",
        "plt.title('Study time (Hours)', size= 15)\n",
        "plt.xlabel('Study time (Hours)', weight='bold')\n",
        "plt.ylabel('count', weight='bold')\n",
        "plt.show()"
      ],
      "metadata": {
        "colab": {
          "base_uri": "https://localhost:8080/",
          "height": 615
        },
        "id": "6j_owGNd5bW1",
        "outputId": "21b0de27-50b8-455f-dfb8-e41e6b9d0ba3"
      },
      "execution_count": 43,
      "outputs": [
        {
          "output_type": "display_data",
          "data": {
            "text/plain": [
              "<Figure size 1800x800 with 1 Axes>"
            ],
            "image/png": "[encoded data removed]"
          },
          "metadata": {}
        }
      ]
    },
    {
      "cell_type": "code",
      "source": [],
      "metadata": {
        "id": "ZVH-DcOe5m6z"
      },
      "execution_count": null,
      "outputs": []
    }
  ]
}